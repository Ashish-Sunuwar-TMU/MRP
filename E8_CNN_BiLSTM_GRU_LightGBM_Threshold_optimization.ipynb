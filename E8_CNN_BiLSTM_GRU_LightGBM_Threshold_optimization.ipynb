{
  "nbformat": 4,
  "nbformat_minor": 0,
  "metadata": {
    "colab": {
      "provenance": [],
      "machine_shape": "hm",
      "gpuType": "T4"
    },
    "kernelspec": {
      "name": "python3",
      "display_name": "Python 3"
    },
    "language_info": {
      "name": "python"
    },
    "accelerator": "GPU"
  },
  "cells": [
    {
      "cell_type": "code",
      "execution_count": 1,
      "metadata": {
        "colab": {
          "base_uri": "https://localhost:8080/"
        },
        "id": "-e_a02qGf04F",
        "outputId": "78a39ebf-e716-4bc6-f5e6-be566247aee0"
      },
      "outputs": [
        {
          "output_type": "stream",
          "name": "stdout",
          "text": [
            "Mounted at /content/drive\n"
          ]
        }
      ],
      "source": [
        "# Mount Google Drive\n",
        "from google.colab import drive\n",
        "drive.mount('/content/drive')"
      ]
    },
    {
      "cell_type": "code",
      "source": [
        "import pandas as pd\n",
        "import numpy as np\n",
        "import tensorflow as tf\n",
        "from tensorflow.keras.layers import (\n",
        "    Input, Conv1D, Bidirectional, LSTM, GRU, Dropout, Dense\n",
        ")\n",
        "from tensorflow.keras.models import Model\n",
        "from tensorflow.keras.optimizers import Adam\n",
        "from tensorflow.keras.callbacks import EarlyStopping\n",
        "import lightgbm as lgb\n",
        "from sklearn.metrics import (\n",
        "    accuracy_score, precision_score, recall_score,\n",
        "    f1_score, roc_auc_score, confusion_matrix\n",
        ")\n",
        "import random\n",
        "import warnings\n",
        "\n",
        "# Reproducibility\n",
        "SEED = 42\n",
        "random.seed(SEED)\n",
        "np.random.seed(SEED)\n",
        "tf.random.set_seed(SEED)\n",
        "\n",
        "warnings.filterwarnings(\"ignore\")\n",
        "\n",
        "# Load & Prepare Data\n",
        "file_path = '/content/drive/MyDrive/MRP/final_dataset.csv'\n",
        "df = pd.read_csv(file_path, parse_dates=['date'])\n",
        "df = df.sort_values(['symbol','date']).reset_index(drop=True)\n",
        "\n",
        "# Compute 1-day lagged return and drop NaNs\n",
        "df['return_1d_lag1'] = df.groupby('symbol')['return_1d'].shift(1)\n",
        "df = df.dropna(subset=['return_1d_lag1']).reset_index(drop=True)\n",
        "\n",
        "# Define Features & Parameters\n",
        "price_feats  = ['adj close', 'log_volume', 'ma_10', 'vol_30', 'rsi_14', 'return_1d_lag1']\n",
        "news_feats   = ['avg_sentiment', 'avg_sentiment_confidence', 'sentiment_std_7']\n",
        "static_feats = price_feats + news_feats + ['day_of_week']\n",
        "TARGET       = 'target'\n",
        "SEQ_LEN      = 30\n",
        "\n",
        "# Generate Sequences & Static Vectors\n",
        "Xs, static_X, ys, dates = [], [], [], []\n",
        "for sym, grp in df.groupby('symbol'):\n",
        "    grp = grp.sort_values('date').reset_index(drop=True)\n",
        "    arr    = grp[price_feats].values\n",
        "    stat   = grp[static_feats].values\n",
        "    labels = grp[TARGET].values\n",
        "    dts    = grp['date'].values\n",
        "    for i in range(SEQ_LEN, len(grp)):\n",
        "        Xs.append(arr[i-SEQ_LEN:i])\n",
        "        static_X.append(stat[i])\n",
        "        ys.append(labels[i])\n",
        "        dates.append(dts[i])\n",
        "\n",
        "X         = np.stack(Xs).astype('float32')       # (N, SEQ_LEN, len(price_feats))\n",
        "static_X  = np.stack(static_X).astype('float32') # (N, len(static_feats))\n",
        "y         = np.array(ys, dtype='float32')\n",
        "dates     = np.array(dates)\n",
        "\n",
        "# Chronological Split\n",
        "train_mask = dates <= np.datetime64('2021-12-31')\n",
        "val_mask   = (dates > np.datetime64('2021-12-31')) & (dates <= np.datetime64('2022-12-31'))\n",
        "test_mask  = dates > np.datetime64('2022-12-31')\n",
        "\n",
        "X_train, X_val, X_test         = X[train_mask], X[val_mask], X[test_mask]\n",
        "static_train, static_val, static_test = static_X[train_mask], static_X[val_mask], static_X[test_mask]\n",
        "y_train, y_val, y_test         = y[train_mask], y[val_mask], y[test_mask]\n",
        "\n",
        "print(f\"Samples: Train={len(y_train)}, Val={len(y_val)}, Test={len(y_test)}\")\n",
        "\n",
        "# Build CNN–BiLSTM–GRU Embedding Model\n",
        "n_feats = X_train.shape[2]\n",
        "inputs = Input(shape=(SEQ_LEN, n_feats))\n",
        "x = Conv1D(32, 3, padding='same', activation='relu')(inputs)\n",
        "x = Conv1D(32, 3, padding='same', activation='relu')(x)\n",
        "x = Bidirectional(LSTM(64, return_sequences=True))(x)\n",
        "x = GRU(32)(x)\n",
        "embed_output = Dropout(0.2)(x)  # embedding vector\n",
        "outputs = Dense(1, activation='sigmoid')(embed_output)\n",
        "model = Model(inputs, outputs)\n",
        "\n",
        "model.compile(\n",
        "    loss='binary_crossentropy',\n",
        "    optimizer=Adam(learning_rate=1e-3),\n",
        "    metrics=['accuracy']\n",
        ")\n",
        "model.summary()\n",
        "\n",
        "# Train with Early Stopping\n",
        "early_stop = EarlyStopping(monitor='val_loss', patience=3, restore_best_weights=True)\n",
        "model.fit(\n",
        "    X_train, y_train,\n",
        "    validation_data=(X_val, y_val),\n",
        "    epochs=20,\n",
        "    batch_size=1024,\n",
        "    callbacks=[early_stop],\n",
        "    verbose=2\n",
        ")\n",
        "\n",
        "# Extract Embeddings\n",
        "embed_model = Model(inputs, embed_output)\n",
        "emb_train = embed_model.predict(X_train, batch_size=1024)\n",
        "emb_val   = embed_model.predict(X_val,   batch_size=1024)\n",
        "emb_test  = embed_model.predict(X_test,  batch_size=1024)\n",
        "\n",
        "# Combine with Static Features\n",
        "train_feat = np.hstack([emb_train, static_train])\n",
        "val_feat   = np.hstack([emb_val,   static_val])\n",
        "test_feat  = np.hstack([emb_test,  static_test])\n",
        "\n",
        "# Train LightGBM on Hybrid Features\n",
        "clf = lgb.LGBMClassifier(\n",
        "    n_estimators=200,\n",
        "    learning_rate=0.05,\n",
        "    random_state=42,\n",
        "    n_jobs=-1\n",
        ")\n",
        "clf.fit(\n",
        "    train_feat, y_train,\n",
        "    eval_set=[(val_feat, y_val)],\n",
        "    eval_metric='binary_logloss',\n",
        "    callbacks=[\n",
        "        lgb.early_stopping(stopping_rounds=10),\n",
        "        lgb.log_evaluation(period=20)\n",
        "    ]\n",
        ")\n",
        "\n",
        "\n",
        "# Threshold optimization on the VALIDATION set\n",
        "import numpy as np\n",
        "from sklearn.metrics import precision_score, recall_score, f1_score\n",
        "\n",
        "# Get probabilities on validation:\n",
        "val_probs = clf.predict_proba(val_feat)[:,1]\n",
        "\n",
        "# Sweep thresholds:\n",
        "best_t, best_f1, best_p, best_r = 0, 0, 0, 0\n",
        "for t in np.arange(0.1, 0.91, 0.01):\n",
        "    preds = (val_probs >= t).astype(int)\n",
        "    f1 = f1_score(y_val, preds)\n",
        "    if f1 > best_f1:\n",
        "        best_f1, best_t = f1, t\n",
        "        best_p = precision_score(y_val, preds)\n",
        "        best_r = recall_score(y_val, preds)\n",
        "\n",
        "# Report your optimal threshold:\n",
        "print(f\"\\nOptimal threshold on VAL: {best_t:.2f}\")\n",
        "print(f\"  Precision: {best_p:.4f}\")\n",
        "print(f\"  Recall   : {best_r:.4f}\")\n",
        "print(f\"  F1 Score : {best_f1:.4f}\")\n",
        "\n",
        "# Evaluate on Test Set using that threshold\n",
        "test_preds = (clf.predict_proba(test_feat)[:,1] >= best_t).astype(int)\n",
        "test_probs = clf.predict_proba(test_feat)[:,1]\n",
        "\n",
        "print(\"\\nTest set performance at threshold \"\n",
        "      f\"{best_t:.2f}:\")\n",
        "print(f\"  Accuracy : {accuracy_score(y_test, test_preds):.4f}\")\n",
        "print(f\"  Precision: {precision_score(y_test, test_preds):.4f}\")\n",
        "print(f\"  Recall   : {recall_score(y_test, test_preds):.4f}\")\n",
        "print(f\"  F1 Score : {f1_score(y_test, test_preds):.4f}\")\n",
        "print(f\"  ROC AUC  : {roc_auc_score(y_test, test_probs):.4f}\")\n",
        "print(\"  Confusion Matrix:\")\n",
        "print(confusion_matrix(y_test, test_preds))"
      ],
      "metadata": {
        "colab": {
          "base_uri": "https://localhost:8080/",
          "height": 1000
        },
        "id": "s79eBXEGht4e",
        "outputId": "d0d8bb6e-4477-4a51-f104-c63aca04cfde"
      },
      "execution_count": 2,
      "outputs": [
        {
          "output_type": "stream",
          "name": "stdout",
          "text": [
            "Samples: Train=3477497, Val=642247, Test=571443\n"
          ]
        },
        {
          "output_type": "display_data",
          "data": {
            "text/plain": [
              "\u001b[1mModel: \"functional\"\u001b[0m\n"
            ],
            "text/html": [
              "<pre style=\"white-space:pre;overflow-x:auto;line-height:normal;font-family:Menlo,'DejaVu Sans Mono',consolas,'Courier New',monospace\"><span style=\"font-weight: bold\">Model: \"functional\"</span>\n",
              "</pre>\n"
            ]
          },
          "metadata": {}
        },
        {
          "output_type": "display_data",
          "data": {
            "text/plain": [
              "┏━━━━━━━━━━━━━━━━━━━━━━━━━━━━━━━━━┳━━━━━━━━━━━━━━━━━━━━━━━━┳━━━━━━━━━━━━━━━┓\n",
              "┃\u001b[1m \u001b[0m\u001b[1mLayer (type)                   \u001b[0m\u001b[1m \u001b[0m┃\u001b[1m \u001b[0m\u001b[1mOutput Shape          \u001b[0m\u001b[1m \u001b[0m┃\u001b[1m \u001b[0m\u001b[1m      Param #\u001b[0m\u001b[1m \u001b[0m┃\n",
              "┡━━━━━━━━━━━━━━━━━━━━━━━━━━━━━━━━━╇━━━━━━━━━━━━━━━━━━━━━━━━╇━━━━━━━━━━━━━━━┩\n",
              "│ input_layer (\u001b[38;5;33mInputLayer\u001b[0m)        │ (\u001b[38;5;45mNone\u001b[0m, \u001b[38;5;34m30\u001b[0m, \u001b[38;5;34m6\u001b[0m)          │             \u001b[38;5;34m0\u001b[0m │\n",
              "├─────────────────────────────────┼────────────────────────┼───────────────┤\n",
              "│ conv1d (\u001b[38;5;33mConv1D\u001b[0m)                 │ (\u001b[38;5;45mNone\u001b[0m, \u001b[38;5;34m30\u001b[0m, \u001b[38;5;34m32\u001b[0m)         │           \u001b[38;5;34m608\u001b[0m │\n",
              "├─────────────────────────────────┼────────────────────────┼───────────────┤\n",
              "│ conv1d_1 (\u001b[38;5;33mConv1D\u001b[0m)               │ (\u001b[38;5;45mNone\u001b[0m, \u001b[38;5;34m30\u001b[0m, \u001b[38;5;34m32\u001b[0m)         │         \u001b[38;5;34m3,104\u001b[0m │\n",
              "├─────────────────────────────────┼────────────────────────┼───────────────┤\n",
              "│ bidirectional (\u001b[38;5;33mBidirectional\u001b[0m)   │ (\u001b[38;5;45mNone\u001b[0m, \u001b[38;5;34m30\u001b[0m, \u001b[38;5;34m128\u001b[0m)        │        \u001b[38;5;34m49,664\u001b[0m │\n",
              "├─────────────────────────────────┼────────────────────────┼───────────────┤\n",
              "│ gru (\u001b[38;5;33mGRU\u001b[0m)                       │ (\u001b[38;5;45mNone\u001b[0m, \u001b[38;5;34m32\u001b[0m)             │        \u001b[38;5;34m15,552\u001b[0m │\n",
              "├─────────────────────────────────┼────────────────────────┼───────────────┤\n",
              "│ dropout (\u001b[38;5;33mDropout\u001b[0m)               │ (\u001b[38;5;45mNone\u001b[0m, \u001b[38;5;34m32\u001b[0m)             │             \u001b[38;5;34m0\u001b[0m │\n",
              "├─────────────────────────────────┼────────────────────────┼───────────────┤\n",
              "│ dense (\u001b[38;5;33mDense\u001b[0m)                   │ (\u001b[38;5;45mNone\u001b[0m, \u001b[38;5;34m1\u001b[0m)              │            \u001b[38;5;34m33\u001b[0m │\n",
              "└─────────────────────────────────┴────────────────────────┴───────────────┘\n"
            ],
            "text/html": [
              "<pre style=\"white-space:pre;overflow-x:auto;line-height:normal;font-family:Menlo,'DejaVu Sans Mono',consolas,'Courier New',monospace\">┏━━━━━━━━━━━━━━━━━━━━━━━━━━━━━━━━━┳━━━━━━━━━━━━━━━━━━━━━━━━┳━━━━━━━━━━━━━━━┓\n",
              "┃<span style=\"font-weight: bold\"> Layer (type)                    </span>┃<span style=\"font-weight: bold\"> Output Shape           </span>┃<span style=\"font-weight: bold\">       Param # </span>┃\n",
              "┡━━━━━━━━━━━━━━━━━━━━━━━━━━━━━━━━━╇━━━━━━━━━━━━━━━━━━━━━━━━╇━━━━━━━━━━━━━━━┩\n",
              "│ input_layer (<span style=\"color: #0087ff; text-decoration-color: #0087ff\">InputLayer</span>)        │ (<span style=\"color: #00d7ff; text-decoration-color: #00d7ff\">None</span>, <span style=\"color: #00af00; text-decoration-color: #00af00\">30</span>, <span style=\"color: #00af00; text-decoration-color: #00af00\">6</span>)          │             <span style=\"color: #00af00; text-decoration-color: #00af00\">0</span> │\n",
              "├─────────────────────────────────┼────────────────────────┼───────────────┤\n",
              "│ conv1d (<span style=\"color: #0087ff; text-decoration-color: #0087ff\">Conv1D</span>)                 │ (<span style=\"color: #00d7ff; text-decoration-color: #00d7ff\">None</span>, <span style=\"color: #00af00; text-decoration-color: #00af00\">30</span>, <span style=\"color: #00af00; text-decoration-color: #00af00\">32</span>)         │           <span style=\"color: #00af00; text-decoration-color: #00af00\">608</span> │\n",
              "├─────────────────────────────────┼────────────────────────┼───────────────┤\n",
              "│ conv1d_1 (<span style=\"color: #0087ff; text-decoration-color: #0087ff\">Conv1D</span>)               │ (<span style=\"color: #00d7ff; text-decoration-color: #00d7ff\">None</span>, <span style=\"color: #00af00; text-decoration-color: #00af00\">30</span>, <span style=\"color: #00af00; text-decoration-color: #00af00\">32</span>)         │         <span style=\"color: #00af00; text-decoration-color: #00af00\">3,104</span> │\n",
              "├─────────────────────────────────┼────────────────────────┼───────────────┤\n",
              "│ bidirectional (<span style=\"color: #0087ff; text-decoration-color: #0087ff\">Bidirectional</span>)   │ (<span style=\"color: #00d7ff; text-decoration-color: #00d7ff\">None</span>, <span style=\"color: #00af00; text-decoration-color: #00af00\">30</span>, <span style=\"color: #00af00; text-decoration-color: #00af00\">128</span>)        │        <span style=\"color: #00af00; text-decoration-color: #00af00\">49,664</span> │\n",
              "├─────────────────────────────────┼────────────────────────┼───────────────┤\n",
              "│ gru (<span style=\"color: #0087ff; text-decoration-color: #0087ff\">GRU</span>)                       │ (<span style=\"color: #00d7ff; text-decoration-color: #00d7ff\">None</span>, <span style=\"color: #00af00; text-decoration-color: #00af00\">32</span>)             │        <span style=\"color: #00af00; text-decoration-color: #00af00\">15,552</span> │\n",
              "├─────────────────────────────────┼────────────────────────┼───────────────┤\n",
              "│ dropout (<span style=\"color: #0087ff; text-decoration-color: #0087ff\">Dropout</span>)               │ (<span style=\"color: #00d7ff; text-decoration-color: #00d7ff\">None</span>, <span style=\"color: #00af00; text-decoration-color: #00af00\">32</span>)             │             <span style=\"color: #00af00; text-decoration-color: #00af00\">0</span> │\n",
              "├─────────────────────────────────┼────────────────────────┼───────────────┤\n",
              "│ dense (<span style=\"color: #0087ff; text-decoration-color: #0087ff\">Dense</span>)                   │ (<span style=\"color: #00d7ff; text-decoration-color: #00d7ff\">None</span>, <span style=\"color: #00af00; text-decoration-color: #00af00\">1</span>)              │            <span style=\"color: #00af00; text-decoration-color: #00af00\">33</span> │\n",
              "└─────────────────────────────────┴────────────────────────┴───────────────┘\n",
              "</pre>\n"
            ]
          },
          "metadata": {}
        },
        {
          "output_type": "display_data",
          "data": {
            "text/plain": [
              "\u001b[1m Total params: \u001b[0m\u001b[38;5;34m68,961\u001b[0m (269.38 KB)\n"
            ],
            "text/html": [
              "<pre style=\"white-space:pre;overflow-x:auto;line-height:normal;font-family:Menlo,'DejaVu Sans Mono',consolas,'Courier New',monospace\"><span style=\"font-weight: bold\"> Total params: </span><span style=\"color: #00af00; text-decoration-color: #00af00\">68,961</span> (269.38 KB)\n",
              "</pre>\n"
            ]
          },
          "metadata": {}
        },
        {
          "output_type": "display_data",
          "data": {
            "text/plain": [
              "\u001b[1m Trainable params: \u001b[0m\u001b[38;5;34m68,961\u001b[0m (269.38 KB)\n"
            ],
            "text/html": [
              "<pre style=\"white-space:pre;overflow-x:auto;line-height:normal;font-family:Menlo,'DejaVu Sans Mono',consolas,'Courier New',monospace\"><span style=\"font-weight: bold\"> Trainable params: </span><span style=\"color: #00af00; text-decoration-color: #00af00\">68,961</span> (269.38 KB)\n",
              "</pre>\n"
            ]
          },
          "metadata": {}
        },
        {
          "output_type": "display_data",
          "data": {
            "text/plain": [
              "\u001b[1m Non-trainable params: \u001b[0m\u001b[38;5;34m0\u001b[0m (0.00 B)\n"
            ],
            "text/html": [
              "<pre style=\"white-space:pre;overflow-x:auto;line-height:normal;font-family:Menlo,'DejaVu Sans Mono',consolas,'Courier New',monospace\"><span style=\"font-weight: bold\"> Non-trainable params: </span><span style=\"color: #00af00; text-decoration-color: #00af00\">0</span> (0.00 B)\n",
              "</pre>\n"
            ]
          },
          "metadata": {}
        },
        {
          "output_type": "stream",
          "name": "stdout",
          "text": [
            "Epoch 1/20\n",
            "3396/3396 - 76s - 22ms/step - accuracy: 0.5124 - loss: 0.6929 - val_accuracy: 0.5021 - val_loss: 0.6933\n",
            "Epoch 2/20\n",
            "3396/3396 - 72s - 21ms/step - accuracy: 0.5162 - loss: 0.6923 - val_accuracy: 0.5052 - val_loss: 0.6938\n",
            "Epoch 3/20\n",
            "3396/3396 - 71s - 21ms/step - accuracy: 0.5194 - loss: 0.6918 - val_accuracy: 0.5071 - val_loss: 0.6942\n",
            "Epoch 4/20\n",
            "3396/3396 - 71s - 21ms/step - accuracy: 0.5234 - loss: 0.6902 - val_accuracy: 0.5024 - val_loss: 0.6949\n",
            "\u001b[1m3396/3396\u001b[0m \u001b[32m━━━━━━━━━━━━━━━━━━━━\u001b[0m\u001b[37m\u001b[0m \u001b[1m24s\u001b[0m 7ms/step\n",
            "\u001b[1m628/628\u001b[0m \u001b[32m━━━━━━━━━━━━━━━━━━━━\u001b[0m\u001b[37m\u001b[0m \u001b[1m5s\u001b[0m 7ms/step\n",
            "\u001b[1m559/559\u001b[0m \u001b[32m━━━━━━━━━━━━━━━━━━━━\u001b[0m\u001b[37m\u001b[0m \u001b[1m4s\u001b[0m 7ms/step\n",
            "[LightGBM] [Info] Number of positive: 1776573, number of negative: 1700924\n",
            "[LightGBM] [Info] Auto-choosing col-wise multi-threading, the overhead of testing was 0.588822 seconds.\n",
            "You can set `force_col_wise=true` to remove the overhead.\n",
            "[LightGBM] [Info] Total Bins 10269\n",
            "[LightGBM] [Info] Number of data points in the train set: 3477497, number of used features: 42\n",
            "[LightGBM] [Info] [binary:BoostFromScore]: pavg=0.510877 -> initscore=0.043515\n",
            "[LightGBM] [Info] Start training from score 0.043515\n",
            "Training until validation scores don't improve for 10 rounds\n",
            "Early stopping, best iteration is:\n",
            "[7]\tvalid_0's binary_logloss: 0.694226\n",
            "\n",
            "Optimal threshold on VAL: 0.10\n",
            "  Precision: 0.4757\n",
            "  Recall   : 1.0000\n",
            "  F1 Score : 0.6448\n",
            "\n",
            "Test set performance at threshold 0.10:\n",
            "  Accuracy : 0.5041\n",
            "  Precision: 0.5041\n",
            "  Recall   : 1.0000\n",
            "  F1 Score : 0.6703\n",
            "  ROC AUC  : 0.5193\n",
            "  Confusion Matrix:\n",
            "[[     0 283357]\n",
            " [     0 288086]]\n"
          ]
        }
      ]
    }
  ]
}